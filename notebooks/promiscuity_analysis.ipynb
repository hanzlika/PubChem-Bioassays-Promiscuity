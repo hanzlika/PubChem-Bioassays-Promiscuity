{
 "cells": [
  {
   "cell_type": "code",
   "execution_count": 1,
   "id": "49eaa301-aa2f-4820-b911-340ccd223867",
   "metadata": {},
   "outputs": [],
   "source": [
    "import numpy as np\n",
    "import pandas as pd\n",
    "from tqdm import tqdm\n",
    "import matplotlib.pyplot as plt"
   ]
  },
  {
   "cell_type": "code",
   "execution_count": 2,
   "id": "ebdaa0bf-e0f6-4d69-a3a9-cb04350966f7",
   "metadata": {},
   "outputs": [],
   "source": [
    "df = pd.read_csv(\"../data/pubchem_bioactivities_merged.csv\")"
   ]
  },
  {
   "cell_type": "markdown",
   "id": "538ce9ea-978d-41f4-86af-b9c76d827517",
   "metadata": {},
   "source": [
    "### PAINS-like analysis\n",
    "\n",
    "In the PAINS publication, a set of primary assays was declared where the entire set of compounds was tested against it. Inferences about promiscuity were made based on the proportion of active assays. To achieve this with this set, we should find a defined set of primary assays and compounds, where each compounds was tested in all of the assays.\n",
    "\n",
    "Obviously, the more assays we use, the less compounds we'll have, so this is a matter of gauging this trade-off."
   ]
  },
  {
   "cell_type": "code",
   "execution_count": 3,
   "id": "d7d793e1-9885-4a78-a008-0b8ff5626080",
   "metadata": {},
   "outputs": [],
   "source": [
    "primary = df[df[\"Outcome Type\"] == 1].copy()"
   ]
  },
  {
   "cell_type": "code",
   "execution_count": 4,
   "id": "4f84da0f-b905-45eb-b408-5120cff172cb",
   "metadata": {},
   "outputs": [],
   "source": [
    "aids = primary.groupby(\"AID\").agg(compounds_tested = (\"CID\", \"nunique\")).reset_index()"
   ]
  },
  {
   "cell_type": "code",
   "execution_count": 5,
   "id": "c2651255-9370-4c5f-bf30-e33063ad99df",
   "metadata": {},
   "outputs": [],
   "source": [
    "aids = aids.sort_values(by=\"compounds_tested\", ascending=False).reset_index()"
   ]
  },
  {
   "cell_type": "code",
   "execution_count": 6,
   "id": "52813787-cc5e-472c-a506-ecab1af6f496",
   "metadata": {
    "scrolled": true
   },
   "outputs": [
    {
     "name": "stderr",
     "output_type": "stream",
     "text": [
      "2it [00:00, 11.15it/s]"
     ]
    },
    {
     "name": "stdout",
     "output_type": "stream",
     "text": [
      "assays: 1, cids: 405115\n",
      "assays: 2, cids: 405115\n"
     ]
    },
    {
     "name": "stderr",
     "output_type": "stream",
     "text": [
      "4it [00:00,  8.92it/s]"
     ]
    },
    {
     "name": "stdout",
     "output_type": "stream",
     "text": [
      "assays: 3, cids: 403573\n",
      "assays: 4, cids: 394699\n"
     ]
    },
    {
     "name": "stderr",
     "output_type": "stream",
     "text": [
      "6it [00:00,  8.90it/s]"
     ]
    },
    {
     "name": "stdout",
     "output_type": "stream",
     "text": [
      "assays: 5, cids: 381968\n",
      "assays: 6, cids: 340625\n"
     ]
    },
    {
     "name": "stderr",
     "output_type": "stream",
     "text": [
      "8it [00:00,  9.16it/s]"
     ]
    },
    {
     "name": "stdout",
     "output_type": "stream",
     "text": [
      "assays: 7, cids: 340625\n",
      "assays: 8, cids: 340625\n"
     ]
    },
    {
     "name": "stderr",
     "output_type": "stream",
     "text": [
      "10it [00:01,  9.12it/s]"
     ]
    },
    {
     "name": "stdout",
     "output_type": "stream",
     "text": [
      "assays: 9, cids: 340625\n",
      "assays: 10, cids: 340625\n"
     ]
    },
    {
     "name": "stderr",
     "output_type": "stream",
     "text": [
      "12it [00:01,  9.45it/s]"
     ]
    },
    {
     "name": "stdout",
     "output_type": "stream",
     "text": [
      "assays: 11, cids: 340625\n",
      "assays: 12, cids: 340625\n",
      "assays: 13, cids: 340625\n"
     ]
    },
    {
     "name": "stderr",
     "output_type": "stream",
     "text": [
      "15it [00:01,  9.67it/s]"
     ]
    },
    {
     "name": "stdout",
     "output_type": "stream",
     "text": [
      "assays: 14, cids: 340557\n",
      "assays: 15, cids: 340557\n"
     ]
    },
    {
     "name": "stderr",
     "output_type": "stream",
     "text": [
      "17it [00:01,  9.54it/s]"
     ]
    },
    {
     "name": "stdout",
     "output_type": "stream",
     "text": [
      "assays: 16, cids: 340557\n",
      "assays: 17, cids: 340557\n"
     ]
    },
    {
     "name": "stderr",
     "output_type": "stream",
     "text": [
      "19it [00:02,  9.30it/s]"
     ]
    },
    {
     "name": "stdout",
     "output_type": "stream",
     "text": [
      "assays: 18, cids: 340557\n",
      "assays: 19, cids: 340557\n"
     ]
    },
    {
     "name": "stderr",
     "output_type": "stream",
     "text": [
      "21it [00:02,  9.42it/s]"
     ]
    },
    {
     "name": "stdout",
     "output_type": "stream",
     "text": [
      "assays: 20, cids: 340557\n",
      "assays: 21, cids: 340557\n"
     ]
    },
    {
     "name": "stderr",
     "output_type": "stream",
     "text": [
      "23it [00:02,  9.50it/s]"
     ]
    },
    {
     "name": "stdout",
     "output_type": "stream",
     "text": [
      "assays: 22, cids: 340557\n",
      "assays: 23, cids: 334927\n"
     ]
    },
    {
     "name": "stderr",
     "output_type": "stream",
     "text": [
      "25it [00:02,  9.20it/s]"
     ]
    },
    {
     "name": "stdout",
     "output_type": "stream",
     "text": [
      "assays: 24, cids: 334927\n",
      "assays: 25, cids: 334927\n"
     ]
    },
    {
     "name": "stderr",
     "output_type": "stream",
     "text": [
      "27it [00:02,  9.17it/s]"
     ]
    },
    {
     "name": "stdout",
     "output_type": "stream",
     "text": [
      "assays: 26, cids: 334927\n",
      "assays: 27, cids: 334927\n"
     ]
    },
    {
     "name": "stderr",
     "output_type": "stream",
     "text": [
      "29it [00:03,  8.92it/s]"
     ]
    },
    {
     "name": "stdout",
     "output_type": "stream",
     "text": [
      "assays: 28, cids: 334927\n",
      "assays: 29, cids: 334927\n"
     ]
    },
    {
     "name": "stderr",
     "output_type": "stream",
     "text": [
      "31it [00:03,  8.98it/s]"
     ]
    },
    {
     "name": "stdout",
     "output_type": "stream",
     "text": [
      "assays: 30, cids: 334927\n",
      "assays: 31, cids: 334927\n"
     ]
    },
    {
     "name": "stderr",
     "output_type": "stream",
     "text": [
      "33it [00:03,  9.20it/s]"
     ]
    },
    {
     "name": "stdout",
     "output_type": "stream",
     "text": [
      "assays: 32, cids: 334927\n",
      "assays: 33, cids: 334926\n"
     ]
    },
    {
     "name": "stderr",
     "output_type": "stream",
     "text": [
      "35it [00:03,  9.33it/s]"
     ]
    },
    {
     "name": "stdout",
     "output_type": "stream",
     "text": [
      "assays: 34, cids: 334926\n",
      "assays: 35, cids: 334926\n"
     ]
    },
    {
     "name": "stderr",
     "output_type": "stream",
     "text": [
      "37it [00:03,  9.35it/s]"
     ]
    },
    {
     "name": "stdout",
     "output_type": "stream",
     "text": [
      "assays: 36, cids: 334926\n",
      "assays: 37, cids: 332765\n",
      "assays: 38, cids: 298341\n"
     ]
    },
    {
     "name": "stderr",
     "output_type": "stream",
     "text": [
      "41it [00:04, 10.40it/s]"
     ]
    },
    {
     "name": "stdout",
     "output_type": "stream",
     "text": [
      "assays: 39, cids: 298341\n",
      "assays: 40, cids: 298341\n",
      "assays: 41, cids: 298341\n"
     ]
    },
    {
     "name": "stderr",
     "output_type": "stream",
     "text": [
      "43it [00:04, 10.67it/s]"
     ]
    },
    {
     "name": "stdout",
     "output_type": "stream",
     "text": [
      "assays: 42, cids: 298341\n",
      "assays: 43, cids: 298341\n",
      "assays: 44, cids: 298341\n"
     ]
    },
    {
     "name": "stderr",
     "output_type": "stream",
     "text": [
      "47it [00:04, 10.77it/s]"
     ]
    },
    {
     "name": "stdout",
     "output_type": "stream",
     "text": [
      "assays: 45, cids: 298341\n",
      "assays: 46, cids: 298341\n",
      "assays: 47, cids: 298341\n"
     ]
    },
    {
     "name": "stderr",
     "output_type": "stream",
     "text": [
      "49it [00:05, 10.83it/s]"
     ]
    },
    {
     "name": "stdout",
     "output_type": "stream",
     "text": [
      "assays: 48, cids: 298341\n",
      "assays: 49, cids: 298341\n",
      "assays: 50, cids: 298340\n"
     ]
    },
    {
     "name": "stderr",
     "output_type": "stream",
     "text": [
      "53it [00:05, 10.83it/s]"
     ]
    },
    {
     "name": "stdout",
     "output_type": "stream",
     "text": [
      "assays: 51, cids: 293969\n",
      "assays: 52, cids: 293969\n",
      "assays: 53, cids: 293969\n"
     ]
    },
    {
     "name": "stderr",
     "output_type": "stream",
     "text": [
      "55it [00:05, 11.07it/s]"
     ]
    },
    {
     "name": "stdout",
     "output_type": "stream",
     "text": [
      "assays: 54, cids: 287044\n",
      "assays: 55, cids: 283211\n",
      "assays: 56, cids: 279417\n"
     ]
    },
    {
     "name": "stderr",
     "output_type": "stream",
     "text": [
      "59it [00:05, 11.49it/s]"
     ]
    },
    {
     "name": "stdout",
     "output_type": "stream",
     "text": [
      "assays: 57, cids: 268114\n",
      "assays: 58, cids: 255065\n",
      "assays: 59, cids: 238858\n"
     ]
    },
    {
     "name": "stderr",
     "output_type": "stream",
     "text": [
      "61it [00:06, 11.58it/s]"
     ]
    },
    {
     "name": "stdout",
     "output_type": "stream",
     "text": [
      "assays: 60, cids: 236027\n",
      "assays: 61, cids: 236027\n",
      "assays: 62, cids: 236027\n"
     ]
    },
    {
     "name": "stderr",
     "output_type": "stream",
     "text": [
      "65it [00:06, 12.00it/s]"
     ]
    },
    {
     "name": "stdout",
     "output_type": "stream",
     "text": [
      "assays: 63, cids: 235970\n",
      "assays: 64, cids: 235970\n",
      "assays: 65, cids: 235970\n"
     ]
    },
    {
     "name": "stderr",
     "output_type": "stream",
     "text": [
      "67it [00:06, 12.11it/s]"
     ]
    },
    {
     "name": "stdout",
     "output_type": "stream",
     "text": [
      "assays: 66, cids: 235970\n",
      "assays: 67, cids: 235957\n",
      "assays: 68, cids: 221931\n"
     ]
    },
    {
     "name": "stderr",
     "output_type": "stream",
     "text": [
      "71it [00:06, 12.04it/s]"
     ]
    },
    {
     "name": "stdout",
     "output_type": "stream",
     "text": [
      "assays: 69, cids: 221679\n",
      "assays: 70, cids: 221067\n",
      "assays: 71, cids: 221065\n"
     ]
    },
    {
     "name": "stderr",
     "output_type": "stream",
     "text": [
      "73it [00:07, 12.28it/s]"
     ]
    },
    {
     "name": "stdout",
     "output_type": "stream",
     "text": [
      "assays: 72, cids: 221065\n",
      "assays: 73, cids: 221065\n",
      "assays: 74, cids: 221065\n"
     ]
    },
    {
     "name": "stderr",
     "output_type": "stream",
     "text": [
      "77it [00:07, 11.99it/s]"
     ]
    },
    {
     "name": "stdout",
     "output_type": "stream",
     "text": [
      "assays: 75, cids: 221065\n",
      "assays: 76, cids: 221065\n",
      "assays: 77, cids: 221065\n"
     ]
    },
    {
     "name": "stderr",
     "output_type": "stream",
     "text": [
      "79it [00:07, 11.89it/s]"
     ]
    },
    {
     "name": "stdout",
     "output_type": "stream",
     "text": [
      "assays: 78, cids: 221065\n",
      "assays: 79, cids: 221065\n",
      "assays: 80, cids: 217170\n"
     ]
    },
    {
     "name": "stderr",
     "output_type": "stream",
     "text": [
      "83it [00:07, 12.17it/s]"
     ]
    },
    {
     "name": "stdout",
     "output_type": "stream",
     "text": [
      "assays: 81, cids: 214488\n",
      "assays: 82, cids: 214488\n",
      "assays: 83, cids: 214488\n"
     ]
    },
    {
     "name": "stderr",
     "output_type": "stream",
     "text": [
      "85it [00:08, 12.18it/s]"
     ]
    },
    {
     "name": "stdout",
     "output_type": "stream",
     "text": [
      "assays: 84, cids: 214477\n",
      "assays: 85, cids: 214477\n",
      "assays: 86, cids: 214477\n"
     ]
    },
    {
     "name": "stderr",
     "output_type": "stream",
     "text": [
      "89it [00:08, 12.47it/s]"
     ]
    },
    {
     "name": "stdout",
     "output_type": "stream",
     "text": [
      "assays: 87, cids: 214449\n",
      "assays: 88, cids: 213978\n",
      "assays: 89, cids: 210326\n"
     ]
    },
    {
     "name": "stderr",
     "output_type": "stream",
     "text": [
      "91it [00:08, 12.41it/s]"
     ]
    },
    {
     "name": "stdout",
     "output_type": "stream",
     "text": [
      "assays: 90, cids: 209830\n",
      "assays: 91, cids: 202361\n",
      "assays: 92, cids: 199827\n"
     ]
    },
    {
     "name": "stderr",
     "output_type": "stream",
     "text": [
      "95it [00:08, 12.65it/s]"
     ]
    },
    {
     "name": "stdout",
     "output_type": "stream",
     "text": [
      "assays: 93, cids: 199827\n",
      "assays: 94, cids: 199827\n",
      "assays: 95, cids: 199827\n"
     ]
    },
    {
     "name": "stderr",
     "output_type": "stream",
     "text": [
      "97it [00:09, 12.75it/s]"
     ]
    },
    {
     "name": "stdout",
     "output_type": "stream",
     "text": [
      "assays: 96, cids: 199827\n",
      "assays: 97, cids: 199827\n",
      "assays: 98, cids: 199827\n"
     ]
    },
    {
     "name": "stderr",
     "output_type": "stream",
     "text": [
      "101it [00:09, 12.70it/s]"
     ]
    },
    {
     "name": "stdout",
     "output_type": "stream",
     "text": [
      "assays: 99, cids: 199827\n",
      "assays: 100, cids: 199827\n",
      "assays: 101, cids: 199827\n"
     ]
    },
    {
     "name": "stderr",
     "output_type": "stream",
     "text": [
      "103it [00:09, 12.68it/s]"
     ]
    },
    {
     "name": "stdout",
     "output_type": "stream",
     "text": [
      "assays: 102, cids: 197325\n",
      "assays: 103, cids: 194132\n",
      "assays: 104, cids: 189913\n"
     ]
    },
    {
     "name": "stderr",
     "output_type": "stream",
     "text": [
      "107it [00:09, 12.81it/s]"
     ]
    },
    {
     "name": "stdout",
     "output_type": "stream",
     "text": [
      "assays: 105, cids: 189913\n",
      "assays: 106, cids: 189913\n",
      "assays: 107, cids: 189913\n"
     ]
    },
    {
     "name": "stderr",
     "output_type": "stream",
     "text": [
      "109it [00:09, 13.04it/s]"
     ]
    },
    {
     "name": "stdout",
     "output_type": "stream",
     "text": [
      "assays: 108, cids: 184361\n",
      "assays: 109, cids: 173643\n",
      "assays: 110, cids: 167633\n"
     ]
    },
    {
     "name": "stderr",
     "output_type": "stream",
     "text": [
      "113it [00:10, 13.63it/s]"
     ]
    },
    {
     "name": "stdout",
     "output_type": "stream",
     "text": [
      "assays: 111, cids: 161187\n",
      "assays: 112, cids: 161187\n",
      "assays: 113, cids: 160268\n"
     ]
    },
    {
     "name": "stderr",
     "output_type": "stream",
     "text": [
      "115it [00:10, 13.74it/s]"
     ]
    },
    {
     "name": "stdout",
     "output_type": "stream",
     "text": [
      "assays: 114, cids: 160268\n",
      "assays: 115, cids: 160268\n",
      "assays: 116, cids: 160268\n"
     ]
    },
    {
     "name": "stderr",
     "output_type": "stream",
     "text": [
      "119it [00:10, 13.77it/s]"
     ]
    },
    {
     "name": "stdout",
     "output_type": "stream",
     "text": [
      "assays: 117, cids: 160268\n",
      "assays: 118, cids: 158123\n",
      "assays: 119, cids: 157895\n"
     ]
    },
    {
     "name": "stderr",
     "output_type": "stream",
     "text": [
      "123it [00:10, 14.66it/s]"
     ]
    },
    {
     "name": "stdout",
     "output_type": "stream",
     "text": [
      "assays: 120, cids: 148468\n",
      "assays: 121, cids: 131624\n",
      "assays: 122, cids: 123402\n",
      "assays: 123, cids: 123347\n"
     ]
    },
    {
     "name": "stderr",
     "output_type": "stream",
     "text": [
      "127it [00:11, 15.82it/s]"
     ]
    },
    {
     "name": "stdout",
     "output_type": "stream",
     "text": [
      "assays: 124, cids: 123312\n",
      "assays: 125, cids: 110705\n",
      "assays: 126, cids: 106854\n",
      "assays: 127, cids: 74962\n"
     ]
    },
    {
     "name": "stderr",
     "output_type": "stream",
     "text": [
      "132it [00:11, 18.09it/s]"
     ]
    },
    {
     "name": "stdout",
     "output_type": "stream",
     "text": [
      "assays: 128, cids: 67132\n",
      "assays: 129, cids: 37623\n",
      "assays: 130, cids: 37319\n",
      "assays: 131, cids: 35611\n",
      "assays: 132, cids: 34575\n"
     ]
    },
    {
     "name": "stderr",
     "output_type": "stream",
     "text": [
      "135it [00:11, 19.20it/s]"
     ]
    },
    {
     "name": "stdout",
     "output_type": "stream",
     "text": [
      "assays: 133, cids: 15223\n",
      "assays: 134, cids: 15174\n",
      "assays: 135, cids: 14689\n",
      "assays: 136, cids: 14688\n",
      "assays: 137, cids: 14687\n"
     ]
    },
    {
     "name": "stderr",
     "output_type": "stream",
     "text": [
      "141it [00:11, 21.12it/s]"
     ]
    },
    {
     "name": "stdout",
     "output_type": "stream",
     "text": [
      "assays: 138, cids: 14682\n",
      "assays: 139, cids: 14682\n",
      "assays: 140, cids: 14682\n",
      "assays: 141, cids: 14682\n",
      "assays: 142, cids: 14566\n"
     ]
    },
    {
     "name": "stderr",
     "output_type": "stream",
     "text": [
      "147it [00:12, 22.44it/s]"
     ]
    },
    {
     "name": "stdout",
     "output_type": "stream",
     "text": [
      "assays: 143, cids: 14341\n",
      "assays: 144, cids: 14103\n",
      "assays: 145, cids: 14083\n",
      "assays: 146, cids: 13441\n",
      "assays: 147, cids: 13244\n"
     ]
    },
    {
     "name": "stderr",
     "output_type": "stream",
     "text": [
      "150it [00:12, 22.92it/s]"
     ]
    },
    {
     "name": "stdout",
     "output_type": "stream",
     "text": [
      "assays: 148, cids: 11480\n",
      "assays: 149, cids: 11480\n",
      "assays: 150, cids: 11480\n",
      "assays: 151, cids: 11480\n",
      "assays: 152, cids: 11480\n",
      "assays: 153, cids: 11480\n"
     ]
    },
    {
     "name": "stderr",
     "output_type": "stream",
     "text": [
      "159it [00:12, 24.36it/s]"
     ]
    },
    {
     "name": "stdout",
     "output_type": "stream",
     "text": [
      "assays: 154, cids: 11480\n",
      "assays: 155, cids: 11438\n",
      "assays: 156, cids: 11438\n",
      "assays: 157, cids: 11438\n",
      "assays: 158, cids: 11438\n",
      "assays: 159, cids: 11431\n"
     ]
    },
    {
     "name": "stderr",
     "output_type": "stream",
     "text": [
      "162it [00:12, 24.66it/s]"
     ]
    },
    {
     "name": "stdout",
     "output_type": "stream",
     "text": [
      "assays: 160, cids: 11404\n",
      "assays: 161, cids: 11383\n",
      "assays: 162, cids: 11383\n",
      "assays: 163, cids: 11382\n",
      "assays: 164, cids: 11341\n",
      "assays: 165, cids: 11240\n"
     ]
    },
    {
     "name": "stderr",
     "output_type": "stream",
     "text": [
      "172it [00:13, 27.31it/s]"
     ]
    },
    {
     "name": "stdout",
     "output_type": "stream",
     "text": [
      "assays: 166, cids: 10025\n",
      "assays: 167, cids: 8857\n",
      "assays: 168, cids: 4366\n",
      "assays: 169, cids: 1384\n",
      "assays: 170, cids: 1384\n",
      "assays: 171, cids: 1384\n",
      "assays: 172, cids: 1384\n"
     ]
    },
    {
     "name": "stderr",
     "output_type": "stream",
     "text": [
      "180it [00:13, 31.69it/s]"
     ]
    },
    {
     "name": "stdout",
     "output_type": "stream",
     "text": [
      "assays: 173, cids: 1057\n",
      "assays: 174, cids: 317\n",
      "assays: 175, cids: 7\n",
      "assays: 176, cids: 6\n",
      "assays: 177, cids: 6\n",
      "assays: 178, cids: 6\n",
      "assays: 179, cids: 6\n",
      "assays: 180, cids: 6\n"
     ]
    },
    {
     "name": "stderr",
     "output_type": "stream",
     "text": [
      "188it [00:13, 33.99it/s]"
     ]
    },
    {
     "name": "stdout",
     "output_type": "stream",
     "text": [
      "assays: 181, cids: 6\n",
      "assays: 182, cids: 6\n",
      "assays: 183, cids: 6\n",
      "assays: 184, cids: 6\n",
      "assays: 185, cids: 6\n",
      "assays: 186, cids: 6\n",
      "assays: 187, cids: 6\n",
      "assays: 188, cids: 6\n"
     ]
    },
    {
     "name": "stderr",
     "output_type": "stream",
     "text": [
      "192it [00:13, 35.02it/s]"
     ]
    },
    {
     "name": "stdout",
     "output_type": "stream",
     "text": [
      "assays: 189, cids: 6\n",
      "assays: 190, cids: 6\n",
      "assays: 191, cids: 6\n",
      "assays: 192, cids: 5\n",
      "assays: 193, cids: 5\n",
      "assays: 194, cids: 5\n",
      "assays: 195, cids: 5\n",
      "assays: 196, cids: 5\n",
      "assays: 197, cids: 5\n"
     ]
    },
    {
     "name": "stderr",
     "output_type": "stream",
     "text": [
      "205it [00:13, 36.59it/s]"
     ]
    },
    {
     "name": "stdout",
     "output_type": "stream",
     "text": [
      "assays: 198, cids: 5\n",
      "assays: 199, cids: 5\n",
      "assays: 200, cids: 5\n",
      "assays: 201, cids: 5\n",
      "assays: 202, cids: 5\n",
      "assays: 203, cids: 5\n",
      "assays: 204, cids: 5\n",
      "assays: 205, cids: 5\n"
     ]
    },
    {
     "name": "stderr",
     "output_type": "stream",
     "text": [
      "209it [00:14, 35.20it/s]"
     ]
    },
    {
     "name": "stdout",
     "output_type": "stream",
     "text": [
      "assays: 206, cids: 5\n",
      "assays: 207, cids: 5\n",
      "assays: 208, cids: 5\n",
      "assays: 209, cids: 5\n",
      "assays: 210, cids: 5\n",
      "assays: 211, cids: 5\n"
     ]
    },
    {
     "name": "stderr",
     "output_type": "stream",
     "text": [
      "217it [00:14, 29.35it/s]"
     ]
    },
    {
     "name": "stdout",
     "output_type": "stream",
     "text": [
      "assays: 212, cids: 5\n",
      "assays: 213, cids: 5\n",
      "assays: 214, cids: 5\n",
      "assays: 215, cids: 5\n",
      "assays: 216, cids: 0\n",
      "assays: 217, cids: 0\n"
     ]
    },
    {
     "name": "stderr",
     "output_type": "stream",
     "text": [
      "221it [00:14, 27.51it/s]"
     ]
    },
    {
     "name": "stdout",
     "output_type": "stream",
     "text": [
      "assays: 218, cids: 0\n",
      "assays: 219, cids: 0\n",
      "assays: 220, cids: 0\n",
      "assays: 221, cids: 0\n",
      "assays: 222, cids: 0\n"
     ]
    },
    {
     "name": "stderr",
     "output_type": "stream",
     "text": [
      "227it [00:14, 24.30it/s]"
     ]
    },
    {
     "name": "stdout",
     "output_type": "stream",
     "text": [
      "assays: 223, cids: 0\n",
      "assays: 224, cids: 0\n",
      "assays: 225, cids: 0\n",
      "assays: 226, cids: 0\n",
      "assays: 227, cids: 0\n"
     ]
    },
    {
     "name": "stderr",
     "output_type": "stream",
     "text": [
      "230it [00:14, 22.38it/s]"
     ]
    },
    {
     "name": "stdout",
     "output_type": "stream",
     "text": [
      "assays: 228, cids: 0\n",
      "assays: 229, cids: 0\n",
      "assays: 230, cids: 0\n",
      "assays: 231, cids: 0\n"
     ]
    },
    {
     "name": "stderr",
     "output_type": "stream",
     "text": [
      "233it [00:15, 20.74it/s]"
     ]
    },
    {
     "name": "stdout",
     "output_type": "stream",
     "text": [
      "assays: 232, cids: 0\n",
      "assays: 233, cids: 0\n",
      "assays: 234, cids: 0\n",
      "assays: 235, cids: 0\n"
     ]
    },
    {
     "name": "stderr",
     "output_type": "stream",
     "text": [
      "238it [00:15, 18.65it/s]"
     ]
    },
    {
     "name": "stdout",
     "output_type": "stream",
     "text": [
      "assays: 236, cids: 0\n",
      "assays: 237, cids: 0\n",
      "assays: 238, cids: 0\n",
      "assays: 239, cids: 0\n"
     ]
    },
    {
     "name": "stderr",
     "output_type": "stream",
     "text": [
      "243it [00:15, 19.04it/s]"
     ]
    },
    {
     "name": "stdout",
     "output_type": "stream",
     "text": [
      "assays: 240, cids: 0\n",
      "assays: 241, cids: 0\n",
      "assays: 242, cids: 0\n",
      "assays: 243, cids: 0\n"
     ]
    },
    {
     "name": "stderr",
     "output_type": "stream",
     "text": [
      "247it [00:15, 19.05it/s]"
     ]
    },
    {
     "name": "stdout",
     "output_type": "stream",
     "text": [
      "assays: 244, cids: 0\n",
      "assays: 245, cids: 0\n",
      "assays: 246, cids: 0\n",
      "assays: 247, cids: 0\n"
     ]
    },
    {
     "name": "stderr",
     "output_type": "stream",
     "text": [
      "252it [00:16, 19.56it/s]"
     ]
    },
    {
     "name": "stdout",
     "output_type": "stream",
     "text": [
      "assays: 248, cids: 0\n",
      "assays: 249, cids: 0\n",
      "assays: 250, cids: 0\n",
      "assays: 251, cids: 0\n",
      "assays: 252, cids: 0\n"
     ]
    },
    {
     "name": "stderr",
     "output_type": "stream",
     "text": [
      "255it [00:16, 19.80it/s]"
     ]
    },
    {
     "name": "stdout",
     "output_type": "stream",
     "text": [
      "assays: 253, cids: 0\n",
      "assays: 254, cids: 0\n",
      "assays: 255, cids: 0\n",
      "assays: 256, cids: 0\n"
     ]
    },
    {
     "name": "stderr",
     "output_type": "stream",
     "text": [
      "258it [00:16, 15.65it/s]"
     ]
    },
    {
     "name": "stdout",
     "output_type": "stream",
     "text": [
      "assays: 257, cids: 0\n",
      "assays: 258, cids: 0\n"
     ]
    },
    {
     "name": "stderr",
     "output_type": "stream",
     "text": [
      "\n"
     ]
    }
   ],
   "source": [
    "cids_set = set()\n",
    "aids_set = []\n",
    "cids_counts = []\n",
    "for index, row in tqdm(aids.iterrows()):\n",
    "    aids_set.append(row[\"AID\"])\n",
    "    cids_tested = primary.loc[primary[\"AID\"] == row[\"AID\"], \"CID\"].unique()\n",
    "    if index == 0:\n",
    "        cids_set = set(cids_tested)\n",
    "    else:\n",
    "        cids_set = cids_set.intersection(cids_tested)\n",
    "    print(f\"assays: {index + 1}, cids: {len(cids_set)}\")\n",
    "    cids_counts.append(len(cids_set))"
   ]
  },
  {
   "cell_type": "code",
   "execution_count": 29,
   "id": "b23e9847-798c-4260-ada2-993e12be7755",
   "metadata": {},
   "outputs": [],
   "source": [
    "data_point_count = [(assay_count + 1) * compounds_count for assay_count, compounds_count in enumerate(cids_counts)]"
   ]
  },
  {
   "cell_type": "code",
   "execution_count": 30,
   "id": "b6769290-01b5-476a-b75e-33fe41b21662",
   "metadata": {},
   "outputs": [
    {
     "data": {
      "image/png": "[encoded data removed]",
      "text/plain": [
       "<Figure size 640x480 with 1 Axes>"
      ]
     },
     "metadata": {},
     "output_type": "display_data"
    }
   ],
   "source": [
    "plt.plot(cids_counts)\n",
    "plt.title('Assays x unique compounds trade off')\n",
    "plt.xlabel('Assays')\n",
    "plt.ylabel('Overlapping compounds')\n",
    "plt.show()"
   ]
  },
  {
   "cell_type": "code",
   "execution_count": 31,
   "id": "4102f8a6-54f7-457f-aac1-d7593f12e571",
   "metadata": {},
   "outputs": [
    {
     "data": {
      "image/png": "[encoded data removed]",
      "text/plain": [
       "<Figure size 640x480 with 1 Axes>"
      ]
     },
     "metadata": {},
     "output_type": "display_data"
    }
   ],
   "source": [
    "plt.plot(data_point_count)\n",
    "plt.title('Assays x data points')\n",
    "plt.xlabel('Assays')\n",
    "plt.ylabel('Total data points')\n",
    "plt.show()"
   ]
  },
  {
   "cell_type": "code",
   "execution_count": 32,
   "id": "01413e91-b5b6-4171-91e3-11f5ba3520ca",
   "metadata": {},
   "outputs": [
    {
     "data": {
      "text/plain": [
       "106"
      ]
     },
     "execution_count": 32,
     "metadata": {},
     "output_type": "execute_result"
    }
   ],
   "source": [
    "data_point_count.index(max(data_point_count))"
   ]
  },
  {
   "cell_type": "markdown",
   "id": "0783c1a6-7993-478c-9cf2-a5bd27d4b1be",
   "metadata": {},
   "source": [
    "The set is the biggest at 106 assays, let's go with that"
   ]
  },
  {
   "cell_type": "code",
   "execution_count": 43,
   "id": "5730769b-09df-4f36-a122-b3ca3ef763b3",
   "metadata": {},
   "outputs": [],
   "source": [
    "aids_106 = aids_set[0:106]"
   ]
  },
  {
   "cell_type": "code",
   "execution_count": 44,
   "id": "ff777192-7869-4ced-8efc-54874466a418",
   "metadata": {},
   "outputs": [],
   "source": [
    "primary_106 = primary[primary[\"AID\"].isin(aids_106)].copy()"
   ]
  },
  {
   "cell_type": "code",
   "execution_count": 48,
   "id": "5cc7fa12-e460-49f1-b6e1-21837b22af5c",
   "metadata": {},
   "outputs": [],
   "source": [
    "all_cids = primary_106.groupby(\"CID\").agg(aid_count = (\"AID\", \"nunique\")).reset_index()"
   ]
  },
  {
   "cell_type": "code",
   "execution_count": 49,
   "id": "bbf4c2bd-ac39-4dcc-9446-be039e5ca033",
   "metadata": {},
   "outputs": [],
   "source": [
    "cids_106 = all_cids.loc[all_cids[\"aid_count\"] == 106, \"CID\"]"
   ]
  },
  {
   "cell_type": "code",
   "execution_count": 50,
   "id": "df4a4da6-971d-413a-98fc-fdae53c375ac",
   "metadata": {},
   "outputs": [],
   "source": [
    "primary_106 = primary_106[primary_106[\"CID\"].isin(cids_106)].copy()"
   ]
  },
  {
   "cell_type": "code",
   "execution_count": 52,
   "id": "39662b71-ecc4-4403-a0e5-ae1605010a5b",
   "metadata": {},
   "outputs": [
    {
     "data": {
      "text/html": [
       "<div>\n",
       "<style scoped>\n",
       "    .dataframe tbody tr th:only-of-type {\n",
       "        vertical-align: middle;\n",
       "    }\n",
       "\n",
       "    .dataframe tbody tr th {\n",
       "        vertical-align: top;\n",
       "    }\n",
       "\n",
       "    .dataframe thead th {\n",
       "        text-align: right;\n",
       "    }\n",
       "</style>\n",
       "<table border=\"1\" class=\"dataframe\">\n",
       "  <thead>\n",
       "    <tr style=\"text-align: right;\">\n",
       "      <th></th>\n",
       "      <th>AID</th>\n",
       "      <th>CID</th>\n",
       "      <th>active</th>\n",
       "      <th>Outcome Type</th>\n",
       "      <th>target_family</th>\n",
       "      <th>panther_family</th>\n",
       "    </tr>\n",
       "  </thead>\n",
       "  <tbody>\n",
       "    <tr>\n",
       "      <th>17017622</th>\n",
       "      <td>2174</td>\n",
       "      <td>644422</td>\n",
       "      <td>False</td>\n",
       "      <td>1</td>\n",
       "      <td>0</td>\n",
       "      <td>78</td>\n",
       "    </tr>\n",
       "    <tr>\n",
       "      <th>17017623</th>\n",
       "      <td>2174</td>\n",
       "      <td>644380</td>\n",
       "      <td>False</td>\n",
       "      <td>1</td>\n",
       "      <td>0</td>\n",
       "      <td>78</td>\n",
       "    </tr>\n",
       "    <tr>\n",
       "      <th>17017624</th>\n",
       "      <td>2174</td>\n",
       "      <td>647663</td>\n",
       "      <td>False</td>\n",
       "      <td>1</td>\n",
       "      <td>0</td>\n",
       "      <td>78</td>\n",
       "    </tr>\n",
       "    <tr>\n",
       "      <th>17017625</th>\n",
       "      <td>2174</td>\n",
       "      <td>293372</td>\n",
       "      <td>False</td>\n",
       "      <td>1</td>\n",
       "      <td>0</td>\n",
       "      <td>78</td>\n",
       "    </tr>\n",
       "    <tr>\n",
       "      <th>17017626</th>\n",
       "      <td>2174</td>\n",
       "      <td>6602571</td>\n",
       "      <td>False</td>\n",
       "      <td>1</td>\n",
       "      <td>0</td>\n",
       "      <td>78</td>\n",
       "    </tr>\n",
       "    <tr>\n",
       "      <th>...</th>\n",
       "      <td>...</td>\n",
       "      <td>...</td>\n",
       "      <td>...</td>\n",
       "      <td>...</td>\n",
       "      <td>...</td>\n",
       "      <td>...</td>\n",
       "    </tr>\n",
       "    <tr>\n",
       "      <th>68288351</th>\n",
       "      <td>1346378</td>\n",
       "      <td>3332664</td>\n",
       "      <td>False</td>\n",
       "      <td>1</td>\n",
       "      <td>3</td>\n",
       "      <td>217</td>\n",
       "    </tr>\n",
       "    <tr>\n",
       "      <th>68288358</th>\n",
       "      <td>1346378</td>\n",
       "      <td>3336052</td>\n",
       "      <td>False</td>\n",
       "      <td>1</td>\n",
       "      <td>3</td>\n",
       "      <td>217</td>\n",
       "    </tr>\n",
       "    <tr>\n",
       "      <th>68288360</th>\n",
       "      <td>1346378</td>\n",
       "      <td>3338091</td>\n",
       "      <td>False</td>\n",
       "      <td>1</td>\n",
       "      <td>3</td>\n",
       "      <td>217</td>\n",
       "    </tr>\n",
       "    <tr>\n",
       "      <th>68288364</th>\n",
       "      <td>1346378</td>\n",
       "      <td>3342390</td>\n",
       "      <td>False</td>\n",
       "      <td>1</td>\n",
       "      <td>3</td>\n",
       "      <td>217</td>\n",
       "    </tr>\n",
       "    <tr>\n",
       "      <th>68288365</th>\n",
       "      <td>1346378</td>\n",
       "      <td>3342913</td>\n",
       "      <td>False</td>\n",
       "      <td>1</td>\n",
       "      <td>3</td>\n",
       "      <td>217</td>\n",
       "    </tr>\n",
       "  </tbody>\n",
       "</table>\n",
       "<p>23401069 rows × 6 columns</p>\n",
       "</div>"
      ],
      "text/plain": [
       "              AID      CID  active  Outcome Type  target_family  \\\n",
       "17017622     2174   644422   False             1              0   \n",
       "17017623     2174   644380   False             1              0   \n",
       "17017624     2174   647663   False             1              0   \n",
       "17017625     2174   293372   False             1              0   \n",
       "17017626     2174  6602571   False             1              0   \n",
       "...           ...      ...     ...           ...            ...   \n",
       "68288351  1346378  3332664   False             1              3   \n",
       "68288358  1346378  3336052   False             1              3   \n",
       "68288360  1346378  3338091   False             1              3   \n",
       "68288364  1346378  3342390   False             1              3   \n",
       "68288365  1346378  3342913   False             1              3   \n",
       "\n",
       "          panther_family  \n",
       "17017622              78  \n",
       "17017623              78  \n",
       "17017624              78  \n",
       "17017625              78  \n",
       "17017626              78  \n",
       "...                  ...  \n",
       "68288351             217  \n",
       "68288358             217  \n",
       "68288360             217  \n",
       "68288364             217  \n",
       "68288365             217  \n",
       "\n",
       "[23401069 rows x 6 columns]"
      ]
     },
     "execution_count": 52,
     "metadata": {},
     "output_type": "execute_result"
    }
   ],
   "source": [
    "primary_106"
   ]
  },
  {
   "cell_type": "code",
   "execution_count": 61,
   "id": "7dfa66ed-2aec-4c96-8875-c000c523aea7",
   "metadata": {},
   "outputs": [],
   "source": [
    "primary_106 = primary_106.groupby([\"CID\", \"AID\"]).agg(\n",
    "    active = (\"active\", \"max\") \n",
    ").reset_index()"
   ]
  },
  {
   "cell_type": "code",
   "execution_count": 63,
   "id": "47e95898-8061-4a27-afe0-f9ba4c843461",
   "metadata": {},
   "outputs": [],
   "source": [
    "cid_activity = primary_106.groupby(\"CID\").agg(\n",
    "    hits = (\"active\", \"sum\")\n",
    ").reset_index()"
   ]
  },
  {
   "cell_type": "code",
   "execution_count": 65,
   "id": "447c42cb-ba43-497d-8c0e-95d02c14fe92",
   "metadata": {},
   "outputs": [],
   "source": [
    "from scripts.visualizations import plot_histogram"
   ]
  },
  {
   "cell_type": "code",
   "execution_count": 83,
   "id": "e22cc97b-ea71-4f7f-bbee-93e77f755ca7",
   "metadata": {},
   "outputs": [
    {
     "data": {
      "image/png": "[encoded data removed]",
      "text/plain": [
       "<Figure size 640x480 with 1 Axes>"
      ]
     },
     "metadata": {},
     "output_type": "display_data"
    }
   ],
   "source": [
    "plot_histogram(cid_activity, \"hits\")"
   ]
  },
  {
   "cell_type": "code",
   "execution_count": 70,
   "id": "e54defb9-4875-472b-8481-68f8972893e3",
   "metadata": {},
   "outputs": [],
   "source": [
    "cid_activity = cid_activity.sort_values(by = \"hits\", ascending=False)"
   ]
  },
  {
   "cell_type": "code",
   "execution_count": 76,
   "id": "c5bd7486-2ecb-4426-bbba-d8fff3060407",
   "metadata": {},
   "outputs": [
    {
     "data": {
      "text/plain": [
       "0.004712485528378486"
      ]
     },
     "execution_count": 76,
     "metadata": {},
     "output_type": "execute_result"
    }
   ],
   "source": [
    "global_hit_rate = primary_106[\"active\"].mean()\n",
    "global_hit_rate"
   ]
  },
  {
   "cell_type": "code",
   "execution_count": 77,
   "id": "09d4ca5c-288b-475f-a014-4394a7b2cafd",
   "metadata": {},
   "outputs": [],
   "source": [
    "from scipy.stats import binom"
   ]
  },
  {
   "cell_type": "code",
   "execution_count": 80,
   "id": "47968d0d-d965-4cc1-ae70-9dd681354e97",
   "metadata": {},
   "outputs": [],
   "source": [
    "cid_activity[\"probability\"] = 1 - binom.pmf(cid_activity[\"hits\"], 106, global_hit_rate)"
   ]
  },
  {
   "cell_type": "code",
   "execution_count": 100,
   "id": "7fb200ce-2690-41e4-8f4b-7afc1e1390b0",
   "metadata": {},
   "outputs": [],
   "source": [
    "counts = []\n",
    "prev_val = 0\n",
    "for i in range(cid_activity[\"hits\"].max(), -1, -1):\n",
    "    cur_val = len(cid_activity[cid_activity[\"hits\"] == i])\n",
    "    counts.append(prev_val + cur_val)\n",
    "    prev_val += cur_val"
   ]
  },
  {
   "cell_type": "code",
   "execution_count": 110,
   "id": "721c824c-022f-4df7-b8d9-8fdfc3f237cf",
   "metadata": {},
   "outputs": [],
   "source": [
    "cumsum = pd.DataFrame(counts).reset_index().rename(columns={\"index\" : \">= x hits\", 0:\"compounds\"})"
   ]
  },
  {
   "cell_type": "code",
   "execution_count": 111,
   "id": "77efd0d3-008f-4195-ad90-b19ee8de2522",
   "metadata": {},
   "outputs": [],
   "source": [
    "cumsum[\">= x hits\"] = 31 - cumsum[\">= x hits\"] "
   ]
  },
  {
   "cell_type": "code",
   "execution_count": 112,
   "id": "c378851f-3788-471c-9d3c-2ec86ca0d65e",
   "metadata": {},
   "outputs": [
    {
     "name": "stdout",
     "output_type": "stream",
     "text": [
      "    >= x hits  compounds\n",
      "0          31          1\n",
      "1          30          1\n",
      "2          29          2\n",
      "3          28          4\n",
      "4          27          5\n",
      "5          26          6\n",
      "6          25          6\n",
      "7          24          9\n",
      "8          23         12\n",
      "9          22         16\n",
      "10         21         20\n",
      "11         20         32\n",
      "12         19         43\n",
      "13         18         55\n",
      "14         17         61\n",
      "15         16         71\n",
      "16         15         90\n",
      "17         14        103\n",
      "18         13        126\n",
      "19         12        158\n",
      "20         11        204\n",
      "21         10        270\n",
      "22          9        359\n",
      "23          8        532\n",
      "24          7        767\n",
      "25          6       1201\n",
      "26          5       1989\n",
      "27          4       3681\n",
      "28          3       7734\n",
      "29          2      18805\n",
      "30          1      58503\n",
      "31          0     189913\n"
     ]
    }
   ],
   "source": [
    "print(cumsum.to_string())"
   ]
  },
  {
   "cell_type": "code",
   "execution_count": null,
   "id": "552b1ab9-c8e3-4768-b800-347cff6bf333",
   "metadata": {},
   "outputs": [],
   "source": []
  }
 ],
 "metadata": {
  "kernelspec": {
   "display_name": "Python 3 (ipykernel)",
   "language": "python",
   "name": "python3"
  },
  "language_info": {
   "codemirror_mode": {
    "name": "ipython",
    "version": 3
   },
   "file_extension": ".py",
   "mimetype": "text/x-python",
   "name": "python",
   "nbconvert_exporter": "python",
   "pygments_lexer": "ipython3",
   "version": "3.11.5"
  }
 },
 "nbformat": 4,
 "nbformat_minor": 5
}
